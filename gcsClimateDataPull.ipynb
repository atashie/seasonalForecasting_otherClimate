{
 "cells": [
  {
   "cell_type": "code",
   "execution_count": null,
   "id": "25acd771-d89b-488b-8c4d-b3d28c8b1c7f",
   "metadata": {},
   "outputs": [],
   "source": [
    "!pip install xarray"
   ]
  },
  {
   "cell_type": "code",
   "execution_count": 34,
   "id": "ef6ebf6b-96a8-419a-b341-3d92264fcba5",
   "metadata": {},
   "outputs": [],
   "source": [
    "import xarray as xr\n",
    "import numpy as np"
   ]
  },
  {
   "cell_type": "code",
   "execution_count": null,
   "id": "830b9859-046c-4855-bb2f-dc71bcc4b5d6",
   "metadata": {},
   "outputs": [],
   "source": []
  },
  {
   "cell_type": "code",
   "execution_count": 32,
   "id": "dd464cb1-708a-49a7-b283-1b35999abb62",
   "metadata": {},
   "outputs": [],
   "source": [
    "thisVar = 'tws' #'rootmoist' #'qr' #'precip' #'potevap' #'let' #'dis' #'tp' #t2m_min  t2m_max  tp\n",
    "#ds_zarr = xr.open_zarr(f'gcs://climateai_weather_services/adaptation_dashboard_data/3bU8Xk1IgnXTmN0az3zRYWa2tA93/a/pp_future_daily.zarr',consolidated=True)\n",
    "#ds_zarr = xr.open_zarr(f'gcs://climateai_weather_services/adaptation_dashboard_data/3bU8Xk1IgnXTmN0az3zRYWa2tA93/a/36.25_-120.5/' + thisVar + f'/pp_future_daily.zarr',consolidated=True)\n",
    "ds_zarr = xr.open_zarr(f'gcs://nsf_subseasonal_data/exposure_data/reanalyzed_isimip/' + thisVar + f'.zarr',consolidated=True)"
   ]
  },
  {
   "cell_type": "code",
   "execution_count": 33,
   "id": "2f2152cd-56d7-4c96-b108-2fe59bc063f9",
   "metadata": {},
   "outputs": [
    {
     "name": "stdout",
     "output_type": "stream",
     "text": [
      "<xarray.Dataset>\n",
      "Dimensions:     (decade: 12, lat: 360, lon: 720, scenario: 3, value_type: 20)\n",
      "Coordinates:\n",
      "  * decade      (decade) int64 1980 1990 2000 2010 2020 ... 2060 2070 2080 2090\n",
      "  * lat         (lat) float32 89.75 89.25 88.75 88.25 ... -88.75 -89.25 -89.75\n",
      "  * lon         (lon) float32 -179.8 -179.2 -178.8 -178.2 ... 178.8 179.2 179.8\n",
      "  * scenario    (scenario) <U5 'rcp26' 'rcp60' 'rcp85'\n",
      "  * value_type  (value_type) int64 0 1 2 3 4 5 6 7 8 ... 12 13 14 15 16 17 18 19\n",
      "Data variables:\n",
      "    tws         (lat, lon, scenario, value_type, decade) float64 ...\n",
      "xarray.Dataset {\n",
      "dimensions:\n",
      "\tdecade = 12 ;\n",
      "\tlat = 360 ;\n",
      "\tlon = 720 ;\n",
      "\tscenario = 3 ;\n",
      "\tvalue_type = 20 ;\n",
      "\n",
      "variables:\n",
      "\tint64 decade(decade) ;\n",
      "\tfloat32 lat(lat) ;\n",
      "\t\tlat:axis = Y ;\n",
      "\t\tlat:long_name = latitude ;\n",
      "\t\tlat:standard_name = latitude ;\n",
      "\t\tlat:units = degrees_north ;\n",
      "\tfloat32 lon(lon) ;\n",
      "\t\tlon:axis = X ;\n",
      "\t\tlon:long_name = longitude ;\n",
      "\t\tlon:standard_name = longitude ;\n",
      "\t\tlon:units = degrees_east ;\n",
      "\t<U5 scenario(scenario) ;\n",
      "\tfloat64 tws(lat, lon, scenario, value_type, decade) ;\n",
      "\tint64 value_type(value_type) ;\n",
      "\n",
      "// global attributes:\n",
      "}"
     ]
    }
   ],
   "source": [
    "# Print the data\n",
    "print(ds_zarr)\n",
    "\n",
    "# Get more information about the data\n",
    "ds_zarr.info()\n"
   ]
  },
  {
   "cell_type": "code",
   "execution_count": 31,
   "id": "eb8bfe64-aefd-4a81-a47f-94adfd048a61",
   "metadata": {},
   "outputs": [],
   "source": [
    "fileName = f'waterIndexUnderlyingData_' + thisVar + f'.nc'\n",
    "ds_zarr.to_netcdf(fileName)"
   ]
  },
  {
   "cell_type": "code",
   "execution_count": 17,
   "id": "a70b9b65-06a4-4a4b-8187-82e59c1f33ce",
   "metadata": {},
   "outputs": [
    {
     "ename": "KeyError",
     "evalue": "'model'",
     "output_type": "error",
     "traceback": [
      "\u001b[0;31m---------------------------------------------------------------------------\u001b[0m",
      "\u001b[0;31mKeyError\u001b[0m                                  Traceback (most recent call last)",
      "File \u001b[0;32m/opt/conda/lib/python3.10/site-packages/xarray/core/dataset.py:1382\u001b[0m, in \u001b[0;36mDataset._construct_dataarray\u001b[0;34m(self, name)\u001b[0m\n\u001b[1;32m   1381\u001b[0m \u001b[38;5;28;01mtry\u001b[39;00m:\n\u001b[0;32m-> 1382\u001b[0m     variable \u001b[38;5;241m=\u001b[39m \u001b[38;5;28;43mself\u001b[39;49m\u001b[38;5;241;43m.\u001b[39;49m\u001b[43m_variables\u001b[49m\u001b[43m[\u001b[49m\u001b[43mname\u001b[49m\u001b[43m]\u001b[49m\n\u001b[1;32m   1383\u001b[0m \u001b[38;5;28;01mexcept\u001b[39;00m \u001b[38;5;167;01mKeyError\u001b[39;00m:\n",
      "\u001b[0;31mKeyError\u001b[0m: 'model'",
      "\nDuring handling of the above exception, another exception occurred:\n",
      "\u001b[0;31mKeyError\u001b[0m                                  Traceback (most recent call last)",
      "Cell \u001b[0;32mIn[17], line 1\u001b[0m\n\u001b[0;32m----> 1\u001b[0m \u001b[38;5;28mprint\u001b[39m((\u001b[43mds_zarr\u001b[49m\u001b[43m[\u001b[49m\u001b[38;5;124;43m'\u001b[39;49m\u001b[38;5;124;43mmodel\u001b[39;49m\u001b[38;5;124;43m'\u001b[39;49m\u001b[43m]\u001b[49m))\n",
      "File \u001b[0;32m/opt/conda/lib/python3.10/site-packages/xarray/core/dataset.py:1473\u001b[0m, in \u001b[0;36mDataset.__getitem__\u001b[0;34m(self, key)\u001b[0m\n\u001b[1;32m   1471\u001b[0m     \u001b[38;5;28;01mreturn\u001b[39;00m \u001b[38;5;28mself\u001b[39m\u001b[38;5;241m.\u001b[39misel(\u001b[38;5;241m*\u001b[39m\u001b[38;5;241m*\u001b[39mkey)\n\u001b[1;32m   1472\u001b[0m \u001b[38;5;28;01mif\u001b[39;00m utils\u001b[38;5;241m.\u001b[39mhashable(key):\n\u001b[0;32m-> 1473\u001b[0m     \u001b[38;5;28;01mreturn\u001b[39;00m \u001b[38;5;28;43mself\u001b[39;49m\u001b[38;5;241;43m.\u001b[39;49m\u001b[43m_construct_dataarray\u001b[49m\u001b[43m(\u001b[49m\u001b[43mkey\u001b[49m\u001b[43m)\u001b[49m\n\u001b[1;32m   1474\u001b[0m \u001b[38;5;28;01mif\u001b[39;00m utils\u001b[38;5;241m.\u001b[39miterable_of_hashable(key):\n\u001b[1;32m   1475\u001b[0m     \u001b[38;5;28;01mreturn\u001b[39;00m \u001b[38;5;28mself\u001b[39m\u001b[38;5;241m.\u001b[39m_copy_listed(key)\n",
      "File \u001b[0;32m/opt/conda/lib/python3.10/site-packages/xarray/core/dataset.py:1384\u001b[0m, in \u001b[0;36mDataset._construct_dataarray\u001b[0;34m(self, name)\u001b[0m\n\u001b[1;32m   1382\u001b[0m     variable \u001b[38;5;241m=\u001b[39m \u001b[38;5;28mself\u001b[39m\u001b[38;5;241m.\u001b[39m_variables[name]\n\u001b[1;32m   1383\u001b[0m \u001b[38;5;28;01mexcept\u001b[39;00m \u001b[38;5;167;01mKeyError\u001b[39;00m:\n\u001b[0;32m-> 1384\u001b[0m     _, name, variable \u001b[38;5;241m=\u001b[39m \u001b[43m_get_virtual_variable\u001b[49m\u001b[43m(\u001b[49m\u001b[38;5;28;43mself\u001b[39;49m\u001b[38;5;241;43m.\u001b[39;49m\u001b[43m_variables\u001b[49m\u001b[43m,\u001b[49m\u001b[43m \u001b[49m\u001b[43mname\u001b[49m\u001b[43m,\u001b[49m\u001b[43m \u001b[49m\u001b[38;5;28;43mself\u001b[39;49m\u001b[38;5;241;43m.\u001b[39;49m\u001b[43mdims\u001b[49m\u001b[43m)\u001b[49m\n\u001b[1;32m   1386\u001b[0m needed_dims \u001b[38;5;241m=\u001b[39m \u001b[38;5;28mset\u001b[39m(variable\u001b[38;5;241m.\u001b[39mdims)\n\u001b[1;32m   1388\u001b[0m coords: \u001b[38;5;28mdict\u001b[39m[Hashable, Variable] \u001b[38;5;241m=\u001b[39m {}\n",
      "File \u001b[0;32m/opt/conda/lib/python3.10/site-packages/xarray/core/dataset.py:196\u001b[0m, in \u001b[0;36m_get_virtual_variable\u001b[0;34m(variables, key, dim_sizes)\u001b[0m\n\u001b[1;32m    194\u001b[0m split_key \u001b[38;5;241m=\u001b[39m key\u001b[38;5;241m.\u001b[39msplit(\u001b[38;5;124m\"\u001b[39m\u001b[38;5;124m.\u001b[39m\u001b[38;5;124m\"\u001b[39m, \u001b[38;5;241m1\u001b[39m)\n\u001b[1;32m    195\u001b[0m \u001b[38;5;28;01mif\u001b[39;00m \u001b[38;5;28mlen\u001b[39m(split_key) \u001b[38;5;241m!=\u001b[39m \u001b[38;5;241m2\u001b[39m:\n\u001b[0;32m--> 196\u001b[0m     \u001b[38;5;28;01mraise\u001b[39;00m \u001b[38;5;167;01mKeyError\u001b[39;00m(key)\n\u001b[1;32m    198\u001b[0m ref_name, var_name \u001b[38;5;241m=\u001b[39m split_key\n\u001b[1;32m    199\u001b[0m ref_var \u001b[38;5;241m=\u001b[39m variables[ref_name]\n",
      "\u001b[0;31mKeyError\u001b[0m: 'model'"
     ]
    }
   ],
   "source": [
    "print((ds_zarr['model']))"
   ]
  },
  {
   "cell_type": "code",
   "execution_count": 11,
   "id": "98160442-c2f3-49e9-8b1a-2025c4459478",
   "metadata": {},
   "outputs": [
    {
     "name": "stdout",
     "output_type": "stream",
     "text": [
      "ssp126\n",
      "ssp245\n",
      "ssp585\n"
     ]
    }
   ],
   "source": [
    "# for subsetting by lat / lon\n",
    "min_lat = 35\n",
    "max_lat = 38\n",
    "min_lon = -122\n",
    "max_lon = -119.5\n",
    "ds_subset = ds_zarr.sel(lat=slice(min_lat, max_lat), lon=slice(min_lon, max_lon))\n",
    "\n",
    "unique_models = np.unique(ds_subset['scenario'])\n",
    "for thisMod in unique_models:\n",
    "    print(thisMod)\n",
    "    ds_subset_model = ds_subset.sel(scenario=thisMod)\n",
    "    #print(ds_subset_model)\n",
    "    ds_subset_model.to_netcdf('tempDataStor/' + thisVar + '_' + thisMod + '_pp_future_daily_works.nc',format='NETCDF3_CLASSIC')\n",
    "\n",
    "\n",
    "#ds_subset.to_netcdf('pp_future_daily_maybe_works.nc')"
   ]
  },
  {
   "cell_type": "code",
   "execution_count": null,
   "id": "1917fcf3-fbcb-4c28-b9f5-94d3f8b98958",
   "metadata": {},
   "outputs": [],
   "source": [
    "# for subsetting by lat / lon\n",
    "min_lat = 35\n",
    "max_lat = 38\n",
    "min_lon = -122\n",
    "max_lon = -119.5\n",
    "ds_subset = ds_zarr.sel(lat=slice(min_lat, max_lat), lon=slice(min_lon, max_lon))\n",
    "\n",
    "unique_models = np.unique(ds_subset['model'])\n",
    "for thisMod in unique_models:\n",
    "    print(thisMod)\n",
    "    ds_subset_model = ds_subset.sel(model=thisMod)\n",
    "    #print(ds_subset_model)\n",
    "    ds_subset_model.to_netcdf('tempDataStor/' + thisVar + '_' + thisMod + '_pp_future_daily_works.nc',format='NETCDF3_CLASSIC')\n",
    "\n",
    "\n",
    "#ds_subset.to_netcdf('pp_future_daily_maybe_works.nc')"
   ]
  },
  {
   "cell_type": "code",
   "execution_count": null,
   "id": "75149634-38f1-4b28-981e-80a7358b21f4",
   "metadata": {},
   "outputs": [],
   "source": [
    "thisLoc + 'thisFileName.csv'"
   ]
  },
  {
   "cell_type": "code",
   "execution_count": null,
   "id": "382bd569-ad79-4c99-8015-37f23f64c400",
   "metadata": {},
   "outputs": [],
   "source": [
    "unique_locations = np.unique(ds_zarr['location'])\n",
    "\n",
    "for thisLoc in unique_locations:\n",
    "    print(thisLoc)\n",
    "    ds_subset = ds_zarr.sel(location=thisLoc)"
   ]
  }
 ],
 "metadata": {
  "environment": {
   "kernel": "python3",
   "name": "common-cpu.m108",
   "type": "gcloud",
   "uri": "gcr.io/deeplearning-platform-release/base-cpu:m108"
  },
  "kernelspec": {
   "display_name": "Python 3",
   "language": "python",
   "name": "python3"
  },
  "language_info": {
   "codemirror_mode": {
    "name": "ipython",
    "version": 3
   },
   "file_extension": ".py",
   "mimetype": "text/x-python",
   "name": "python",
   "nbconvert_exporter": "python",
   "pygments_lexer": "ipython3",
   "version": "3.10.10"
  }
 },
 "nbformat": 4,
 "nbformat_minor": 5
}
