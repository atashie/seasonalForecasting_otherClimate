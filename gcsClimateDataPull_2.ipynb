{
 "cells": [
  {
   "cell_type": "code",
   "execution_count": 2,
   "id": "f520f3c2-9f2b-42ed-b435-307ec43ff87a",
   "metadata": {},
   "outputs": [
    {
     "name": "stdout",
     "output_type": "stream",
     "text": [
      "Collecting xarray\n",
      "  Downloading xarray-0.20.2-py3-none-any.whl (845 kB)\n",
      "\u001b[2K     \u001b[90m━━━━━━━━━━━━━━━━━━━━━━━━━━━━━━━━━━━━━━━\u001b[0m \u001b[32m845.2/845.2 kB\u001b[0m \u001b[31m9.9 MB/s\u001b[0m eta \u001b[36m0:00:00\u001b[0m00:01\u001b[0m00:01\u001b[0m\n",
      "\u001b[?25hRequirement already satisfied: importlib-metadata in /opt/conda/lib/python3.7/site-packages (from xarray) (4.11.4)\n",
      "Requirement already satisfied: pandas>=1.1 in /opt/conda/lib/python3.7/site-packages (from xarray) (1.3.5)\n",
      "Requirement already satisfied: numpy>=1.18 in /opt/conda/lib/python3.7/site-packages (from xarray) (1.21.6)\n",
      "Requirement already satisfied: typing-extensions>=3.7 in /opt/conda/lib/python3.7/site-packages (from xarray) (4.3.0)\n",
      "Requirement already satisfied: python-dateutil>=2.7.3 in /opt/conda/lib/python3.7/site-packages (from pandas>=1.1->xarray) (2.8.2)\n",
      "Requirement already satisfied: pytz>=2017.3 in /opt/conda/lib/python3.7/site-packages (from pandas>=1.1->xarray) (2022.2.1)\n",
      "Requirement already satisfied: zipp>=0.5 in /opt/conda/lib/python3.7/site-packages (from importlib-metadata->xarray) (3.8.1)\n",
      "Requirement already satisfied: six>=1.5 in /opt/conda/lib/python3.7/site-packages (from python-dateutil>=2.7.3->pandas>=1.1->xarray) (1.16.0)\n",
      "Installing collected packages: xarray\n",
      "Successfully installed xarray-0.20.2\n"
     ]
    }
   ],
   "source": [
    "!pip install xarray"
   ]
  },
  {
   "cell_type": "code",
   "execution_count": 1,
   "id": "88c8648b-70ea-4daa-b71b-b3805cc330ce",
   "metadata": {},
   "outputs": [
    {
     "ename": "ModuleNotFoundError",
     "evalue": "No module named 'xarray'",
     "output_type": "error",
     "traceback": [
      "\u001b[0;31m---------------------------------------------------------------------------\u001b[0m",
      "\u001b[0;31mModuleNotFoundError\u001b[0m                       Traceback (most recent call last)",
      "\u001b[0;32m/tmp/ipykernel_28631/2461222564.py\u001b[0m in \u001b[0;36m<module>\u001b[0;34m\u001b[0m\n\u001b[0;32m----> 1\u001b[0;31m \u001b[0;32mimport\u001b[0m \u001b[0mxarray\u001b[0m \u001b[0;32mas\u001b[0m \u001b[0mxr\u001b[0m\u001b[0;34m\u001b[0m\u001b[0;34m\u001b[0m\u001b[0m\n\u001b[0m\u001b[1;32m      2\u001b[0m \u001b[0;32mimport\u001b[0m \u001b[0mnumpy\u001b[0m \u001b[0;32mas\u001b[0m \u001b[0mnp\u001b[0m\u001b[0;34m\u001b[0m\u001b[0;34m\u001b[0m\u001b[0m\n",
      "\u001b[0;31mModuleNotFoundError\u001b[0m: No module named 'xarray'"
     ]
    }
   ],
   "source": [
    "import xarray as xr\n",
    "import numpy as np"
   ]
  },
  {
   "cell_type": "code",
   "execution_count": null,
   "id": "7a24c5a6-96ae-4025-9de0-e813a3d31146",
   "metadata": {},
   "outputs": [],
   "source": [
    "#ds_zarr = xr.open_zarr(f'gcs://climateai_weather_services/adaptation_dashboard_data/3bU8Xk1IgnXTmN0az3zRYWa2tA93/a/pp_future_daily.zarr',consolidated=True)\n",
    "\n",
    "thisVar = 't2m_min'\n",
    "ds_zarr = xr.open_zarr(f'gcs://climateai_weather_services/adaptation_dashboard_data/3bU8Xk1IgnXTmN0az3zRYWa2tA93/a/36.25_-120.5/' + thisVar + f'/pp_future_daily.zarr',consolidated=True)\n",
    "\n",
    "\n",
    "    # inspecting the data\n",
    "print(f'print(ds_zarr)')\n",
    "print(ds_zarr)\n",
    "\n",
    "print(f'ds_zarr.info()')\n",
    "ds_zarr.info()\n",
    "\n",
    "#print(f'print(ds_zarr.coords[location])')\n",
    "#print(ds_zarr.coords['location'])\n"
   ]
  },
  {
   "cell_type": "code",
   "execution_count": null,
   "id": "106c5fab-fe30-40ce-bd62-b39b8c5c79e6",
   "metadata": {},
   "outputs": [],
   "source": [
    "# for subsetting by lat / lon\n",
    "min_lat = 33\n",
    "max_lat = 38\n",
    "min_lon = -122\n",
    "max_lon = -119\n",
    "ds_subset = ds_zarr.sel(lat=slice(min_lat, max_lat), lon=slice(min_lon, max_lon))\n",
    "ds_subset.to_netcdf(thisVar + '_pp_future_daily_maybe_works.nc')\n"
   ]
  },
  {
   "cell_type": "code",
   "execution_count": null,
   "id": "2b2cd62b-526c-4f8e-beda-3b0a4aa8ddb9",
   "metadata": {},
   "outputs": [],
   "source": [
    "# for subsetting by location\n",
    "\n",
    "unique_locations = np.unique(ds_zarr['location'])\n",
    "\n",
    "for thisLoc in unique_locations:\n",
    "    print(thisLoc)\n",
    "    ds_subset = ds_zarr.sel(location=thisLoc)\n",
    "    print(ds_subset)\n",
    "    ds_subset.to_netcdf(thisLoc + '_pp_future_daily_works.nc',format='NETCDF3_CLASSIC')\n",
    "#    ds_subset.info()\n",
    "#    print(ds_zarr.dims)\n",
    "#    print(ds_zarr.coords)\n",
    "#ds_zarr.to_netcdf('pp_future_daily_maybe_works.nc')\n"
   ]
  },
  {
   "cell_type": "code",
   "execution_count": null,
   "id": "3b2c3fc4-f574-49dd-a7bb-ca1bd16bc018",
   "metadata": {},
   "outputs": [],
   "source": [
    "################## end of active code"
   ]
  },
  {
   "cell_type": "code",
   "execution_count": null,
   "id": "a6c4eda5-bb04-450c-a260-e73cd3672cbd",
   "metadata": {},
   "outputs": [],
   "source": [
    "import xarray as xr\n",
    "\n",
    "#ds_zarr = xr.open_zarr(f'gcs://climateai_weather_services/adaptation_dashboard_data/3bU8Xk1IgnXTmN0az3zRYWa2tA93/a/36.25_-120.5',consolidated=True)\n",
    "#ds_zarr = xr.open_zarr(f'gcs://climateai_weather_services/adaptation_dashboard_data/3bU8Xk1IgnXTmN0az3zRYWa2tA93/a/36.25_-120.5/t2m_max/pp_future_daily.zarr', consolidated=True)\n",
    "ds_zarr = xr.open_zarr(f'gcs://climateai_weather_services/adaptation_dashboard_data/3bU8Xk1IgnXTmN0az3zRYWa2tA93/a/pp_future_daily.zarr',consolidated=True)\n",
    "\n",
    "    # inspecting the data\n",
    "#print(ds_zarr)\n",
    "#ds_zarr.info()\n",
    "\n",
    "    # subsetting the data\n",
    "#ds_subset = ds_zarr.sel(variables='rh')#, dimension='time')\n",
    "#ds_subset = ds_zarr.sel(dimensions='time')\n",
    "ds_subset = ds_zarr.sel(location='boardman')#, dimension='time')\n",
    "print(ds_subset)\n",
    "#ds_subset = ds_zarr.sel(variable='rh')\n",
    "ds_subset.info()\n",
    "print(ds_zarr.dims)\n",
    "print(ds_zarr.coords)\n",
    "#ds_zarr.to_netcdf('pp_future_daily_works.nc',format='NETCDF3_CLASSIC')\n",
    "#ds_zarr.to_netcdf('pp_future_daily_maybe_works.nc')\n"
   ]
  },
  {
   "cell_type": "code",
   "execution_count": null,
   "id": "abbab908-16b3-4123-8f2d-678bdb6d29a4",
   "metadata": {},
   "outputs": [],
   "source": [
    "unique_locations = np.unique(ds_zarr['location'])\n",
    "print(unique_locations)\n",
    "\n",
    "for loc in unique_locations:\n",
    "    print(loc)"
   ]
  },
  {
   "cell_type": "code",
   "execution_count": null,
   "id": "626a4e0c-6738-4660-a94a-bb24118cb8c8",
   "metadata": {},
   "outputs": [],
   "source": [
    "unique_locations = np.unique(ds_zarr['location'])\n",
    "\n",
    "for thisLoc in unique_locations:\n",
    "    print(thisLoc)\n",
    "    ds_subset = ds_zarr.sel(location=thisLoc)"
   ]
  },
  {
   "cell_type": "code",
   "execution_count": null,
   "id": "0ec7a6d3-b636-48d3-96fc-f558db4d585d",
   "metadata": {},
   "outputs": [],
   "source": []
  }
 ],
 "metadata": {
  "environment": {
   "kernel": "python3",
   "name": "r-cpu.4-1.m97",
   "type": "gcloud",
   "uri": "gcr.io/deeplearning-platform-release/r-cpu.4-1:m97"
  },
  "kernelspec": {
   "display_name": "Python 3",
   "language": "python",
   "name": "python3"
  },
  "language_info": {
   "codemirror_mode": {
    "name": "ipython",
    "version": 3
   },
   "file_extension": ".py",
   "mimetype": "text/x-python",
   "name": "python",
   "nbconvert_exporter": "python",
   "pygments_lexer": "ipython3",
   "version": "3.7.12"
  }
 },
 "nbformat": 4,
 "nbformat_minor": 5
}
